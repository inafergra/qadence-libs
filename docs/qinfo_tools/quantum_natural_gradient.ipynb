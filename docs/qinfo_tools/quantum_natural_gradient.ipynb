{
 "cells": [
  {
   "cell_type": "markdown",
   "metadata": {},
   "source": [
    "# Quantum Natural Gradient optimize\n",
    "\n",
    "The Quantum Natural Gradient "
   ]
  },
  {
   "cell_type": "code",
   "execution_count": 1,
   "metadata": {},
   "outputs": [],
   "source": [
    "import torch\n",
    "from torch.utils.data import random_split\n",
    "import random\n",
    "import matplotlib.pyplot as plt\n",
    "\n",
    "import qadence as qd\n",
    "from qadence_libs.qinfo_tools import QNG, QNG_SPSA\n",
    "\n",
    "# Ensure reproducibility\n",
    "seed = 42\n",
    "torch.manual_seed(seed)\n",
    "random.seed(seed)\n",
    "\n",
    "# Number of qubits\n",
    "n_qubits = 4"
   ]
  },
  {
   "cell_type": "code",
   "execution_count": 2,
   "metadata": {},
   "outputs": [],
   "source": [
    "def qcl_training_data(\n",
    "    domain: tuple = (0, 2 * torch.pi), n_points: int = 200\n",
    ") -> tuple[torch.Tensor, torch.Tensor]:\n",
    "    start, end = domain\n",
    "\n",
    "    x_rand, _ = torch.sort(torch.DoubleTensor(n_points).uniform_(start, end))\n",
    "    y_rand = torch.sin(x_rand)\n",
    "\n",
    "    return x_rand, y_rand\n",
    "\n",
    "\n",
    "x, y = qcl_training_data()"
   ]
  },
  {
   "cell_type": "code",
   "execution_count": 3,
   "metadata": {},
   "outputs": [],
   "source": [
    "# random train/test split of the dataset\n",
    "train_subset, test_subset = random_split(x, [0.75, 0.25])\n",
    "train_ind = sorted(train_subset.indices)\n",
    "test_ind = sorted(test_subset.indices)\n",
    "\n",
    "x_train, y_train = x[train_ind], y[train_ind]\n",
    "x_test, y_test = x[test_ind], y[test_ind]"
   ]
  },
  {
   "cell_type": "code",
   "execution_count": 4,
   "metadata": {},
   "outputs": [],
   "source": [
    "# create a simple feature map to encode the input data\n",
    "feature_param = qd.FeatureParameter(\"phi\")\n",
    "feature_map = qd.kron(qd.RX(i, feature_param) for i in range(n_qubits))\n",
    "feature_map = qd.tag(feature_map, \"feature_map\")\n",
    "\n",
    "# create a digital-analog variational ansatz using Qadence convenience constructors\n",
    "ansatz = qd.hea(n_qubits, depth=n_qubits)\n",
    "ansatz = qd.tag(ansatz, \"ansatz\")\n",
    "\n",
    "# Observable\n",
    "observable = qd.hamiltonian_factory(n_qubits, detuning=qd.Z)"
   ]
  },
  {
   "cell_type": "code",
   "execution_count": 5,
   "metadata": {},
   "outputs": [],
   "source": [
    "# Create separate circuits and models for each optimizer\n",
    "circuit_adam = qd.QuantumCircuit(n_qubits, feature_map, ansatz)\n",
    "circuit_qng = qd.QuantumCircuit(n_qubits, feature_map, ansatz)\n",
    "circuit_qng_spsa = qd.QuantumCircuit(n_qubits, feature_map, ansatz)\n",
    "\n",
    "model_adam = qd.QNN(circuit_adam, [observable])\n",
    "model_qng = qd.QNN(circuit_qng, [observable])\n",
    "model_qng_spsa = qd.QNN(circuit_qng_spsa, [observable])\n",
    "\n",
    "# Retrive the circuit parameters in the QNG-based optimizers\n",
    "circ_params_qng = [param for param in model_qng.parameters() if param.requires_grad]\n",
    "circ_params_qng_spsa = [param for param in model_qng_spsa.parameters() if param.requires_grad]"
   ]
  },
  {
   "cell_type": "code",
   "execution_count": 6,
   "metadata": {},
   "outputs": [
    {
     "name": "stderr",
     "output_type": "stream",
     "text": [
      "/home/ina/Desktop/development/qinfo_tools_qadence-libs/qadence-libs/.hatch/qadence-libs/lib/python3.10/site-packages/torch/nn/modules/loss.py:535: UserWarning: Using a target size (torch.Size([150])) that is different to the input size (torch.Size([150, 1])). This will likely lead to incorrect results due to broadcasting. Please ensure they have the same size.\n",
      "  return F.mse_loss(input, target, reduction=self.reduction)\n"
     ]
    },
    {
     "name": "stdout",
     "output_type": "stream",
     "text": [
      "Initial loss: 0.6872056024635026\n",
      "Epoch 2 - Loss: 0.48278096271008564\n",
      "Epoch 4 - Loss: 0.10028951354641123\n",
      "Epoch 6 - Loss: 0.013706117077696926\n",
      "Epoch 8 - Loss: 0.018339077421767738\n",
      "Epoch 10 - Loss: 0.06935171992724382\n",
      "Epoch 12 - Loss: 0.03200744528627519\n",
      "Epoch 14 - Loss: 0.01718898163928308\n",
      "Epoch 16 - Loss: 0.020230206487724174\n",
      "Epoch 18 - Loss: 0.012185866651889008\n",
      "Epoch 20 - Loss: 0.009203086990500589\n",
      "Epoch 22 - Loss: 0.011937018438300044\n",
      "Epoch 24 - Loss: 0.007414714287016319\n",
      "Epoch 26 - Loss: 0.002415770311991419\n",
      "Epoch 28 - Loss: 0.008140502483904103\n",
      "Epoch 30 - Loss: 0.0021536600503301562\n",
      "Epoch 32 - Loss: 0.003414571122479678\n",
      "Epoch 34 - Loss: 0.0034432531039738706\n",
      "Epoch 36 - Loss: 0.0014186478828354583\n",
      "Epoch 38 - Loss: 0.0019088708311255972\n",
      "Epoch 40 - Loss: 0.0017828687088556402\n"
     ]
    }
   ],
   "source": [
    "# Train with ADAM\n",
    "n_epochs_adam = 40\n",
    "lr_adam = 0.1\n",
    "mse_loss = torch.nn.MSELoss()  # standard PyTorch loss function\n",
    "optimizer = torch.optim.Adam(model_adam.parameters(), lr=lr_adam)  # standard PyTorch Adam optimizer\n",
    "loss_adam = []\n",
    "print(f\"Initial loss: {mse_loss(model_adam(values=x_train), y_train)}\")\n",
    "for i in range(n_epochs_adam):\n",
    "    optimizer.zero_grad()\n",
    "    loss = mse_loss(model_adam(values=x_train).squeeze(), y_train)\n",
    "    loss_adam.append(float(loss))\n",
    "    loss.backward()\n",
    "    optimizer.step()\n",
    "    if (i + 1) % 2 == 0:\n",
    "        print(f\"Epoch {i+1} - Loss: {loss.item()}\")"
   ]
  },
  {
   "cell_type": "code",
   "execution_count": 7,
   "metadata": {},
   "outputs": [
    {
     "name": "stdout",
     "output_type": "stream",
     "text": [
      "Initial loss: 0.6872056024635026\n",
      "Epoch 2 - Loss: 0.4926606186593805\n",
      "Epoch 4 - Loss: 0.062362092254672714\n",
      "Epoch 6 - Loss: 0.033451000440778596\n",
      "Epoch 8 - Loss: 0.024687928047922233\n",
      "Epoch 10 - Loss: 0.019401530272803745\n",
      "Epoch 12 - Loss: 0.015761043686275067\n",
      "Epoch 14 - Loss: 0.013030951628786248\n",
      "Epoch 16 - Loss: 0.010893618813098908\n",
      "Epoch 18 - Loss: 0.009187274991149965\n",
      "Epoch 20 - Loss: 0.007812061070034276\n"
     ]
    }
   ],
   "source": [
    "# Train with QNG\n",
    "n_epochs_qng = 20\n",
    "lr_qng = 0.1\n",
    "mse_loss = torch.nn.MSELoss()  # standard PyTorch loss function\n",
    "optimizer = QNG(circ_params_qng, lr=lr_qng, circuit=circuit_qng, beta=0.1)\n",
    "loss_qng = []\n",
    "print(f\"Initial loss: {mse_loss(model_qng(values=x_train), y_train)}\")\n",
    "for i in range(n_epochs_qng):\n",
    "    optimizer.zero_grad()\n",
    "    loss = mse_loss(model_qng(values=x_train).squeeze(), y_train)\n",
    "    loss_qng.append(float(loss))\n",
    "    loss.backward()\n",
    "    optimizer.step()\n",
    "    if (i + 1) % 2 == 0:\n",
    "        print(f\"Epoch {i+1} - Loss: {loss.item()}\")"
   ]
  },
  {
   "cell_type": "code",
   "execution_count": 8,
   "metadata": {},
   "outputs": [
    {
     "name": "stdout",
     "output_type": "stream",
     "text": [
      "Initial loss: 0.6872056024635026\n",
      "Epoch 2 - Loss: 0.42787215432306086\n",
      "Epoch 4 - Loss: 0.04385272348103771\n",
      "Epoch 6 - Loss: 0.009539049617328462\n",
      "Epoch 8 - Loss: 0.005746030361170559\n",
      "Epoch 10 - Loss: 0.004394641369096684\n",
      "Epoch 12 - Loss: 0.0035710751675410626\n",
      "Epoch 14 - Loss: 0.003123201603188735\n",
      "Epoch 16 - Loss: 0.0028362057703164847\n",
      "Epoch 18 - Loss: 0.0026156297595317244\n",
      "Epoch 20 - Loss: 0.002441745124927594\n"
     ]
    }
   ],
   "source": [
    "# Train with QNG-SPSA\n",
    "n_epochs_qng_spsa = 20\n",
    "lr_qng_spsa = 0.01\n",
    "mse_loss = torch.nn.MSELoss()  # standard PyTorch loss function\n",
    "optimizer = QNG_SPSA(\n",
    "    circ_params_qng_spsa,\n",
    "    lr=lr_qng_spsa,\n",
    "    circuit=circuit_qng_spsa,\n",
    "    epsilon=0.001,\n",
    "    beta=0.1,\n",
    ")\n",
    "loss_qng_spsa = []\n",
    "print(f\"Initial loss: {mse_loss(model_qng_spsa(values=x_train), y_train)}\")\n",
    "for i in range(n_epochs_qng_spsa):\n",
    "    optimizer.zero_grad()\n",
    "    loss = mse_loss(model_qng_spsa(values=x_train).squeeze(), y_train)\n",
    "    loss_qng_spsa.append(float(loss))\n",
    "    loss.backward()\n",
    "    optimizer.step()\n",
    "    if (i + 1) % 2 == 0:\n",
    "        print(f\"Epoch {i+1} - Loss: {loss.item()}\")"
   ]
  },
  {
   "cell_type": "code",
   "execution_count": 9,
   "metadata": {},
   "outputs": [
    {
     "data": {
      "image/png": "[encoded data removed]",
      "text/plain": [
       "<Figure size 640x480 with 1 Axes>"
      ]
     },
     "metadata": {},
     "output_type": "display_data"
    }
   ],
   "source": [
    "# Plot losses\n",
    "fig, _ = plt.subplots()\n",
    "plt.plot(range(n_epochs_adam), loss_adam, label=\"Adam optimizer\")\n",
    "plt.plot(range(n_epochs_qng), loss_qng, label=\"QNG optimizer\")\n",
    "plt.plot(range(n_epochs_qng_spsa), loss_qng_spsa, label=\"QNG-SPSA optimizer\")\n",
    "plt.legend()\n",
    "plt.xlabel(\"Training epochs\")\n",
    "plt.ylabel(\"Loss\")\n",
    "plt.show()"
   ]
  },
  {
   "cell_type": "code",
   "execution_count": null,
   "metadata": {},
   "outputs": [],
   "source": []
  }
 ],
 "metadata": {
  "kernelspec": {
   "display_name": "env_qadencelibs",
   "language": "python",
   "name": "python3"
  },
  "language_info": {
   "codemirror_mode": {
    "name": "ipython",
    "version": 3
   },
   "file_extension": ".py",
   "mimetype": "text/x-python",
   "name": "python",
   "nbconvert_exporter": "python",
   "pygments_lexer": "ipython3",
   "version": "3.10.12"
  }
 },
 "nbformat": 4,
 "nbformat_minor": 2
}
